{
  "nbformat": 4,
  "nbformat_minor": 0,
  "metadata": {
    "colab": {
      "name": "youtube-dl GUI.ipynb",
      "provenance": [],
      "collapsed_sections": [],
      "authorship_tag": "ABX9TyPAmQfwljRcmEYZ35+5/Cxe",
      "include_colab_link": true
    },
    "kernelspec": {
      "name": "python3",
      "display_name": "Python 3"
    },
    "language_info": {
      "name": "python"
    }
  },
  "cells": [
    {
      "cell_type": "markdown",
      "metadata": {
        "id": "view-in-github",
        "colab_type": "text"
      },
      "source": [
        "<a href=\"https://colab.research.google.com/github/greytelent/youtube_dl-GUI/blob/main/youtube_dl_GUI.ipynb\" target=\"_parent\"><img src=\"https://colab.research.google.com/assets/colab-badge.svg\" alt=\"Open In Colab\"/></a>"
      ]
    },
    {
      "cell_type": "markdown",
      "metadata": {
        "id": "gKUSUb13Vsj8"
      },
      "source": [
        "## Mount **Google Drive**"
      ]
    },
    {
      "cell_type": "code",
      "metadata": {
        "id": "VNMzGVtYVnTi"
      },
      "source": [
        "from google.colab import drive\n",
        "drive.mount('/gdrive')"
      ],
      "execution_count": null,
      "outputs": []
    },
    {
      "cell_type": "markdown",
      "metadata": {
        "id": "3K5F3kRcVxLl"
      },
      "source": [
        "## Install **youtube-dl**"
      ]
    },
    {
      "cell_type": "code",
      "metadata": {
        "id": "Gzllz8SRVxs2"
      },
      "source": [
        "pip install youtube_dl"
      ],
      "execution_count": null,
      "outputs": []
    },
    {
      "cell_type": "code",
      "metadata": {
        "cellView": "form",
        "id": "0Zdz23N5V3da"
      },
      "source": [
        "folder_name = \"heyy\" #@param {type:\"string\"}\n",
        "playlist_link = \"https://www.youtube.com/playlist?list=PLRfY4Rc-GWzhdCvSPR7aTV0PJjjiSAGMs\" #@param {type:\"string\"}\n",
        "choose_quality = \"720p\" #@param [\"720p\", \"1080p\"]\n",
        "\n",
        "!mkdir \"/gdrive/MyDrive/$folder_name\"\n",
        "\n",
        "if choose_quality == \"720p\":\n",
        "  !sudo youtube-dl -f 247+251/136+251/247+140/136+140 -o '/gdrive/MyDrive/$folder_name/%(playlist_index)s. %(title)s.%(ext)s' \"$playlist_link\"\n",
        "elif choose_quality == \"1080p\":\n",
        "  !sudo youtube-dl -f 248+251/137+251/248+140/137+140/247+251/136+251/247+140/136+140 -o '/gdrive/MyDrive/$folder_name/%(playlist_index)s. %(title)s.%(ext)s' \"$playlist_link\""
      ],
      "execution_count": null,
      "outputs": []
    }
  ]
}